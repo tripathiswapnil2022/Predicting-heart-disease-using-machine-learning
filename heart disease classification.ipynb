{
 "cells": [
  {
   "cell_type": "markdown",
   "id": "32e4d03c",
   "metadata": {},
   "source": [
    "# Predicting heart disease using machine learning"
   ]
  },
  {
   "cell_type": "markdown",
   "id": "41786125",
   "metadata": {},
   "source": [
    "### Flow of Machine learning project is :\n",
    "\n",
    "1. importing Necessary libraries\n",
    "2.Data exploration\n",
    "3.Data Description\n",
    "4.EDA & Analysis of features\n",
    "5. Correlation \n",
    "6.Data Pre-processing -to dummify nominal features\n",
    "7.Train-Test Split\n",
    "8.Hyperparameter tuning of some of models\n",
    "9.Model comparison"
   ]
  },
  {
   "cell_type": "code",
   "execution_count": 79,
   "id": "d40f7b14",
   "metadata": {},
   "outputs": [],
   "source": [
    "# Importing necessary libraries\n",
    "import pandas as pd\n",
    "import numpy as np\n",
    "import matplotlib.pyplot as plt\n",
    "import seaborn as sns\n",
    "from sklearn.model_selection import train_test_split\n",
    "from sklearn.preprocessing import StandardScaler\n",
    "from sklearn.impute import SimpleImputer\n",
    "from sklearn.feature_selection import SelectKBest, chi2\n",
    "from sklearn.ensemble import ExtraTreesClassifier\n",
    "from sklearn.svm import SVC\n",
    "from sklearn.metrics import accuracy_score, classification_report, confusion_matrix\n",
    "from sklearn.linear_model import LogisticRegression\n",
    "from sklearn.tree import DecisionTreeClassifier\n",
    "from sklearn.ensemble import RandomForestClassifier"
   ]
  },
  {
   "cell_type": "markdown",
   "id": "e8640756",
   "metadata": {},
   "source": [
    "# Data Exploration"
   ]
  },
  {
   "cell_type": "code",
   "execution_count": 80,
   "id": "da11a344",
   "metadata": {},
   "outputs": [],
   "source": [
    "# Reading the dataset\n",
    "df = pd.read_csv('Dataset.csv')\n",
    "\n"
   ]
  },
  {
   "cell_type": "code",
   "execution_count": 81,
   "id": "be6ee661",
   "metadata": {},
   "outputs": [
    {
     "name": "stdout",
     "output_type": "stream",
     "text": [
      "<class 'pandas.core.frame.DataFrame'>\n",
      "RangeIndex: 303 entries, 0 to 302\n",
      "Data columns (total 14 columns):\n",
      " #   Column    Non-Null Count  Dtype  \n",
      "---  ------    --------------  -----  \n",
      " 0   age       303 non-null    int64  \n",
      " 1   sex       303 non-null    int64  \n",
      " 2   cp        303 non-null    int64  \n",
      " 3   trestbps  303 non-null    int64  \n",
      " 4   chol      303 non-null    int64  \n",
      " 5   fbs       303 non-null    int64  \n",
      " 6   restecg   303 non-null    int64  \n",
      " 7   thalach   303 non-null    int64  \n",
      " 8   exang     303 non-null    int64  \n",
      " 9   oldpeak   303 non-null    float64\n",
      " 10  slope     303 non-null    int64  \n",
      " 11  ca        303 non-null    int64  \n",
      " 12  thal      303 non-null    int64  \n",
      " 13  target    303 non-null    int64  \n",
      "dtypes: float64(1), int64(13)\n",
      "memory usage: 33.3 KB\n"
     ]
    }
   ],
   "source": [
    "df.info()\n",
    "\n"
   ]
  },
  {
   "cell_type": "code",
   "execution_count": 82,
   "id": "9435ab6b",
   "metadata": {},
   "outputs": [
    {
     "data": {
      "text/html": [
       "<div>\n",
       "<style scoped>\n",
       "    .dataframe tbody tr th:only-of-type {\n",
       "        vertical-align: middle;\n",
       "    }\n",
       "\n",
       "    .dataframe tbody tr th {\n",
       "        vertical-align: top;\n",
       "    }\n",
       "\n",
       "    .dataframe thead th {\n",
       "        text-align: right;\n",
       "    }\n",
       "</style>\n",
       "<table border=\"1\" class=\"dataframe\">\n",
       "  <thead>\n",
       "    <tr style=\"text-align: right;\">\n",
       "      <th></th>\n",
       "      <th>age</th>\n",
       "      <th>sex</th>\n",
       "      <th>cp</th>\n",
       "      <th>trestbps</th>\n",
       "      <th>chol</th>\n",
       "      <th>fbs</th>\n",
       "      <th>restecg</th>\n",
       "      <th>thalach</th>\n",
       "      <th>exang</th>\n",
       "      <th>oldpeak</th>\n",
       "      <th>slope</th>\n",
       "      <th>ca</th>\n",
       "      <th>thal</th>\n",
       "      <th>target</th>\n",
       "    </tr>\n",
       "  </thead>\n",
       "  <tbody>\n",
       "    <tr>\n",
       "      <th>count</th>\n",
       "      <td>303.000000</td>\n",
       "      <td>303.000000</td>\n",
       "      <td>303.000000</td>\n",
       "      <td>303.000000</td>\n",
       "      <td>303.000000</td>\n",
       "      <td>303.000000</td>\n",
       "      <td>303.000000</td>\n",
       "      <td>303.000000</td>\n",
       "      <td>303.000000</td>\n",
       "      <td>303.000000</td>\n",
       "      <td>303.000000</td>\n",
       "      <td>303.000000</td>\n",
       "      <td>303.000000</td>\n",
       "      <td>303.000000</td>\n",
       "    </tr>\n",
       "    <tr>\n",
       "      <th>mean</th>\n",
       "      <td>54.438944</td>\n",
       "      <td>0.679868</td>\n",
       "      <td>2.158416</td>\n",
       "      <td>131.689769</td>\n",
       "      <td>246.693069</td>\n",
       "      <td>0.148515</td>\n",
       "      <td>0.990099</td>\n",
       "      <td>149.607261</td>\n",
       "      <td>0.326733</td>\n",
       "      <td>1.039604</td>\n",
       "      <td>0.600660</td>\n",
       "      <td>0.663366</td>\n",
       "      <td>1.831683</td>\n",
       "      <td>0.458746</td>\n",
       "    </tr>\n",
       "    <tr>\n",
       "      <th>std</th>\n",
       "      <td>9.038662</td>\n",
       "      <td>0.467299</td>\n",
       "      <td>0.960126</td>\n",
       "      <td>17.599748</td>\n",
       "      <td>51.776918</td>\n",
       "      <td>0.356198</td>\n",
       "      <td>0.994971</td>\n",
       "      <td>22.875003</td>\n",
       "      <td>0.469794</td>\n",
       "      <td>1.161075</td>\n",
       "      <td>0.616226</td>\n",
       "      <td>0.934375</td>\n",
       "      <td>0.956705</td>\n",
       "      <td>0.499120</td>\n",
       "    </tr>\n",
       "    <tr>\n",
       "      <th>min</th>\n",
       "      <td>29.000000</td>\n",
       "      <td>0.000000</td>\n",
       "      <td>0.000000</td>\n",
       "      <td>94.000000</td>\n",
       "      <td>126.000000</td>\n",
       "      <td>0.000000</td>\n",
       "      <td>0.000000</td>\n",
       "      <td>71.000000</td>\n",
       "      <td>0.000000</td>\n",
       "      <td>0.000000</td>\n",
       "      <td>0.000000</td>\n",
       "      <td>0.000000</td>\n",
       "      <td>1.000000</td>\n",
       "      <td>0.000000</td>\n",
       "    </tr>\n",
       "    <tr>\n",
       "      <th>25%</th>\n",
       "      <td>48.000000</td>\n",
       "      <td>0.000000</td>\n",
       "      <td>2.000000</td>\n",
       "      <td>120.000000</td>\n",
       "      <td>211.000000</td>\n",
       "      <td>0.000000</td>\n",
       "      <td>0.000000</td>\n",
       "      <td>133.500000</td>\n",
       "      <td>0.000000</td>\n",
       "      <td>0.000000</td>\n",
       "      <td>0.000000</td>\n",
       "      <td>0.000000</td>\n",
       "      <td>1.000000</td>\n",
       "      <td>0.000000</td>\n",
       "    </tr>\n",
       "    <tr>\n",
       "      <th>50%</th>\n",
       "      <td>56.000000</td>\n",
       "      <td>1.000000</td>\n",
       "      <td>2.000000</td>\n",
       "      <td>130.000000</td>\n",
       "      <td>241.000000</td>\n",
       "      <td>0.000000</td>\n",
       "      <td>1.000000</td>\n",
       "      <td>153.000000</td>\n",
       "      <td>0.000000</td>\n",
       "      <td>0.800000</td>\n",
       "      <td>1.000000</td>\n",
       "      <td>0.000000</td>\n",
       "      <td>1.000000</td>\n",
       "      <td>0.000000</td>\n",
       "    </tr>\n",
       "    <tr>\n",
       "      <th>75%</th>\n",
       "      <td>61.000000</td>\n",
       "      <td>1.000000</td>\n",
       "      <td>3.000000</td>\n",
       "      <td>140.000000</td>\n",
       "      <td>275.000000</td>\n",
       "      <td>0.000000</td>\n",
       "      <td>2.000000</td>\n",
       "      <td>166.000000</td>\n",
       "      <td>1.000000</td>\n",
       "      <td>1.600000</td>\n",
       "      <td>1.000000</td>\n",
       "      <td>1.000000</td>\n",
       "      <td>3.000000</td>\n",
       "      <td>1.000000</td>\n",
       "    </tr>\n",
       "    <tr>\n",
       "      <th>max</th>\n",
       "      <td>77.000000</td>\n",
       "      <td>1.000000</td>\n",
       "      <td>3.000000</td>\n",
       "      <td>200.000000</td>\n",
       "      <td>564.000000</td>\n",
       "      <td>1.000000</td>\n",
       "      <td>2.000000</td>\n",
       "      <td>202.000000</td>\n",
       "      <td>1.000000</td>\n",
       "      <td>6.200000</td>\n",
       "      <td>2.000000</td>\n",
       "      <td>3.000000</td>\n",
       "      <td>3.000000</td>\n",
       "      <td>1.000000</td>\n",
       "    </tr>\n",
       "  </tbody>\n",
       "</table>\n",
       "</div>"
      ],
      "text/plain": [
       "              age         sex          cp    trestbps        chol         fbs  \\\n",
       "count  303.000000  303.000000  303.000000  303.000000  303.000000  303.000000   \n",
       "mean    54.438944    0.679868    2.158416  131.689769  246.693069    0.148515   \n",
       "std      9.038662    0.467299    0.960126   17.599748   51.776918    0.356198   \n",
       "min     29.000000    0.000000    0.000000   94.000000  126.000000    0.000000   \n",
       "25%     48.000000    0.000000    2.000000  120.000000  211.000000    0.000000   \n",
       "50%     56.000000    1.000000    2.000000  130.000000  241.000000    0.000000   \n",
       "75%     61.000000    1.000000    3.000000  140.000000  275.000000    0.000000   \n",
       "max     77.000000    1.000000    3.000000  200.000000  564.000000    1.000000   \n",
       "\n",
       "          restecg     thalach       exang     oldpeak       slope          ca  \\\n",
       "count  303.000000  303.000000  303.000000  303.000000  303.000000  303.000000   \n",
       "mean     0.990099  149.607261    0.326733    1.039604    0.600660    0.663366   \n",
       "std      0.994971   22.875003    0.469794    1.161075    0.616226    0.934375   \n",
       "min      0.000000   71.000000    0.000000    0.000000    0.000000    0.000000   \n",
       "25%      0.000000  133.500000    0.000000    0.000000    0.000000    0.000000   \n",
       "50%      1.000000  153.000000    0.000000    0.800000    1.000000    0.000000   \n",
       "75%      2.000000  166.000000    1.000000    1.600000    1.000000    1.000000   \n",
       "max      2.000000  202.000000    1.000000    6.200000    2.000000    3.000000   \n",
       "\n",
       "             thal      target  \n",
       "count  303.000000  303.000000  \n",
       "mean     1.831683    0.458746  \n",
       "std      0.956705    0.499120  \n",
       "min      1.000000    0.000000  \n",
       "25%      1.000000    0.000000  \n",
       "50%      1.000000    0.000000  \n",
       "75%      3.000000    1.000000  \n",
       "max      3.000000    1.000000  "
      ]
     },
     "execution_count": 82,
     "metadata": {},
     "output_type": "execute_result"
    }
   ],
   "source": [
    "df.describe()"
   ]
  },
  {
   "cell_type": "code",
   "execution_count": 83,
   "id": "bbed1f35",
   "metadata": {},
   "outputs": [
    {
     "name": "stdout",
     "output_type": "stream",
     "text": [
      "   age  sex  cp  trestbps  chol  fbs  restecg  thalach  exang  oldpeak  slope  \\\n",
      "0   63    1   0       145   233    1        2      150      0      2.3      2   \n",
      "1   67    1   3       160   286    0        2      108      1      1.5      1   \n",
      "2   67    1   3       120   229    0        2      129      1      2.6      1   \n",
      "3   37    1   2       130   250    0        0      187      0      3.5      2   \n",
      "4   41    0   1       130   204    0        2      172      0      1.4      0   \n",
      "\n",
      "   ca  thal  target  \n",
      "0   0     2       0  \n",
      "1   3     1       1  \n",
      "2   2     3       1  \n",
      "3   0     1       0  \n",
      "4   0     1       0  \n"
     ]
    }
   ],
   "source": [
    "# Check the first 5 rows of the dataset\n",
    "print(df.head())"
   ]
  },
  {
   "cell_type": "code",
   "execution_count": 84,
   "id": "152d5515",
   "metadata": {},
   "outputs": [
    {
     "name": "stdout",
     "output_type": "stream",
     "text": [
      "(303, 14)\n"
     ]
    }
   ],
   "source": [
    "# Check the shape of the dataset\n",
    "print(df.shape)\n"
   ]
  },
  {
   "cell_type": "code",
   "execution_count": 85,
   "id": "ed68a645",
   "metadata": {},
   "outputs": [
    {
     "data": {
      "text/plain": [
       "Index(['age', 'sex', 'cp', 'trestbps', 'chol', 'fbs', 'restecg', 'thalach',\n",
       "       'exang', 'oldpeak', 'slope', 'ca', 'thal', 'target'],\n",
       "      dtype='object')"
      ]
     },
     "execution_count": 85,
     "metadata": {},
     "output_type": "execute_result"
    }
   ],
   "source": [
    "# Check the column names\n",
    "df.columns\n"
   ]
  },
  {
   "cell_type": "code",
   "execution_count": 86,
   "id": "d50b6264",
   "metadata": {},
   "outputs": [
    {
     "name": "stdout",
     "output_type": "stream",
     "text": [
      "age           int64\n",
      "sex           int64\n",
      "cp            int64\n",
      "trestbps      int64\n",
      "chol          int64\n",
      "fbs           int64\n",
      "restecg       int64\n",
      "thalach       int64\n",
      "exang         int64\n",
      "oldpeak     float64\n",
      "slope         int64\n",
      "ca            int64\n",
      "thal          int64\n",
      "target        int64\n",
      "dtype: object\n"
     ]
    }
   ],
   "source": [
    "# Check the data types of the columns\n",
    "print(df.dtypes)"
   ]
  },
  {
   "cell_type": "code",
   "execution_count": 87,
   "id": "5c6b744b",
   "metadata": {},
   "outputs": [
    {
     "data": {
      "text/plain": [
       "0"
      ]
     },
     "execution_count": 87,
     "metadata": {},
     "output_type": "execute_result"
    }
   ],
   "source": [
    "df.isnull().sum().sum()"
   ]
  },
  {
   "cell_type": "markdown",
   "id": "d8ce6569",
   "metadata": {},
   "source": [
    "There are no null values in dataset.So,we dont need to do null value imputation."
   ]
  },
  {
   "cell_type": "markdown",
   "id": "beccf3c6",
   "metadata": {},
   "source": [
    "# Data Description"
   ]
  },
  {
   "cell_type": "markdown",
   "id": "f6761e45",
   "metadata": {},
   "source": [
    "This database contains 13 attributes and a target variable. It has 8 nominal values and 5 numeric values. The detailed description of all these features are as follows:\n",
    "\n",
    "1.\tAge: Patients Age in years (Numeric)\n",
    "2.\tSex: Gender (Male : 1; Female : 0) (Nominal)\n",
    "3.\tcp: Type of chest pain experienced by patient. This term categorized into 4 category.\n",
    "    0 typical angina, 1 atypical angina, 2 non- anginal pain, 3 asymptomatic (Nominal)\n",
    "4.\ttrestbps: patient's level of blood pressure at resting mode in mm/HG (Numerical)\n",
    "5.\tchol: Serum cholesterol in mg/dl (Numeric)\n",
    "6.\tfbs: Blood sugar levels on fasting > 120 mg/dl represents as 1 in case of true and 0 as false (Nominal)\n",
    "7.\trestecg: Result of electrocardiogram while at rest are represented in 3 distinct values\n",
    "     0 : Normal 1: having ST-T wave abnormality (T wave inversions and/or ST elevation or depression of >\n",
    "     0.05 mV) 2: showing probable or definite left ventricular hypertrophyby Estes' criteria (Nominal)\n",
    "8.\tthalach: Maximum heart rate achieved (Numeric)\n",
    "9.\texang: Angina induced by exercise 0 depicting NO 1 depicting Yes (Nominal)\n",
    "10.\toldpeak: Exercise induced ST-depression in relative with the state of rest (Numeric)\n",
    "11.\tslope: ST segment measured in terms of slope during peak exercise\n",
    "     0: up sloping; 1: flat; 2: down sloping(Nominal)\n",
    "12.\tca: The number of major vessels (0–3)(nominal)\n",
    "13.\tthal: A blood disorder called thalassemia\n",
    "    0: NULL 1: normal blood flow 2: fixed defect (no blood flow in some part of the heart) 3: reversible defect (a blood flow is      observed but it is not normal(nominal)\n",
    "14.\ttarget: It is the target variable which we have to predict 1 means patient is suffering from heart disease and 0 means patient is normal.\n"
   ]
  },
  {
   "cell_type": "code",
   "execution_count": 88,
   "id": "a0f301bf",
   "metadata": {},
   "outputs": [
    {
     "data": {
      "text/plain": [
       "0    164\n",
       "1    139\n",
       "Name: target, dtype: int64"
      ]
     },
     "execution_count": 88,
     "metadata": {},
     "output_type": "execute_result"
    }
   ],
   "source": [
    "# target is the output and the final conclusion if a person has heart disease or not \n",
    "df.target.value_counts()"
   ]
  },
  {
   "cell_type": "markdown",
   "id": "60ee7b6d",
   "metadata": {},
   "source": [
    "# EDA"
   ]
  },
  {
   "cell_type": "code",
   "execution_count": null,
   "id": "3bf049d1",
   "metadata": {},
   "outputs": [],
   "source": []
  },
  {
   "cell_type": "code",
   "execution_count": 89,
   "id": "68b3bbd9",
   "metadata": {},
   "outputs": [
    {
     "data": {
      "text/plain": [
       "array([[<AxesSubplot:title={'center':'age'}>,\n",
       "        <AxesSubplot:title={'center':'sex'}>,\n",
       "        <AxesSubplot:title={'center':'cp'}>,\n",
       "        <AxesSubplot:title={'center':'trestbps'}>],\n",
       "       [<AxesSubplot:title={'center':'chol'}>,\n",
       "        <AxesSubplot:title={'center':'fbs'}>,\n",
       "        <AxesSubplot:title={'center':'restecg'}>,\n",
       "        <AxesSubplot:title={'center':'thalach'}>],\n",
       "       [<AxesSubplot:title={'center':'exang'}>,\n",
       "        <AxesSubplot:title={'center':'oldpeak'}>,\n",
       "        <AxesSubplot:title={'center':'slope'}>,\n",
       "        <AxesSubplot:title={'center':'ca'}>],\n",
       "       [<AxesSubplot:title={'center':'thal'}>,\n",
       "        <AxesSubplot:title={'center':'target'}>, <AxesSubplot:>,\n",
       "        <AxesSubplot:>]], dtype=object)"
      ]
     },
     "execution_count": 89,
     "metadata": {},
     "output_type": "execute_result"
    },
    {
     "data": {
      "image/png": "[encoded data removed]",
      "text/plain": [
       "<Figure size 1080x576 with 16 Axes>"
      ]
     },
     "metadata": {
      "needs_background": "light"
     },
     "output_type": "display_data"
    }
   ],
   "source": [
    "df.hist(figsize=(15, 8))\n"
   ]
  },
  {
   "cell_type": "code",
   "execution_count": 90,
   "id": "2a1997ab",
   "metadata": {},
   "outputs": [
    {
     "data": {
      "image/png": "[encoded data removed]",
      "text/plain": [
       "<Figure size 720x360 with 2 Axes>"
      ]
     },
     "metadata": {
      "needs_background": "light"
     },
     "output_type": "display_data"
    },
    {
     "name": "stdout",
     "output_type": "stream",
     "text": [
      "Percentage of patients without heart problems: 45.87458745874587\n",
      "Percentage of patients with heart problems: 54.12541254125413\n"
     ]
    }
   ],
   "source": [
    "\n",
    "# Count the target variable and plot it\n",
    "y = df.target\n",
    "\n",
    "\n",
    "fig, ax = plt.subplots(1, 2, figsize=(10,5))\n",
    "sns.countplot(x='target', data=df, ax=ax[0])\n",
    "ax[0].set_title('Count of Target Variable')\n",
    "\n",
    "df['target'].value_counts().plot(kind='pie', autopct='%1.1f%%', ax=ax[1], labels=['Heart Disease', 'No Heart Disease'])\n",
    "ax[1].set_title('Proportion of Target Variable')\n",
    "plt.show()\n",
    "\n",
    "print(\"Percentage of patients without heart problems: \"+str(y.where(y==1).count()*100/303))\n",
    "print(\"Percentage of patients with heart problems: \"+str(y.where(y==0).count()*100/303))"
   ]
  },
  {
   "cell_type": "markdown",
   "id": "1534b1fa",
   "metadata": {},
   "source": []
  },
  {
   "cell_type": "markdown",
   "id": "9d5bd9b2",
   "metadata": {},
   "source": [
    "## Analysing the 'Sex' feature\n"
   ]
  },
  {
   "cell_type": "code",
   "execution_count": 91,
   "id": "92436142",
   "metadata": {},
   "outputs": [
    {
     "data": {
      "text/plain": [
       "1    206\n",
       "0     97\n",
       "Name: sex, dtype: int64"
      ]
     },
     "execution_count": 91,
     "metadata": {},
     "output_type": "execute_result"
    }
   ],
   "source": [
    "df.sex.value_counts()\n"
   ]
  },
  {
   "cell_type": "code",
   "execution_count": 92,
   "id": "f18fddbc",
   "metadata": {},
   "outputs": [
    {
     "data": {
      "text/html": [
       "<div>\n",
       "<style scoped>\n",
       "    .dataframe tbody tr th:only-of-type {\n",
       "        vertical-align: middle;\n",
       "    }\n",
       "\n",
       "    .dataframe tbody tr th {\n",
       "        vertical-align: top;\n",
       "    }\n",
       "\n",
       "    .dataframe thead th {\n",
       "        text-align: right;\n",
       "    }\n",
       "</style>\n",
       "<table border=\"1\" class=\"dataframe\">\n",
       "  <thead>\n",
       "    <tr style=\"text-align: right;\">\n",
       "      <th>sex</th>\n",
       "      <th>0</th>\n",
       "      <th>1</th>\n",
       "    </tr>\n",
       "    <tr>\n",
       "      <th>target</th>\n",
       "      <th></th>\n",
       "      <th></th>\n",
       "    </tr>\n",
       "  </thead>\n",
       "  <tbody>\n",
       "    <tr>\n",
       "      <th>0</th>\n",
       "      <td>72</td>\n",
       "      <td>92</td>\n",
       "    </tr>\n",
       "    <tr>\n",
       "      <th>1</th>\n",
       "      <td>25</td>\n",
       "      <td>114</td>\n",
       "    </tr>\n",
       "  </tbody>\n",
       "</table>\n",
       "</div>"
      ],
      "text/plain": [
       "sex      0    1\n",
       "target         \n",
       "0       72   92\n",
       "1       25  114"
      ]
     },
     "execution_count": 92,
     "metadata": {},
     "output_type": "execute_result"
    }
   ],
   "source": [
    "# Comparing target column with sex column\n",
    "pd.crosstab(df.target, df.sex)"
   ]
  },
  {
   "cell_type": "code",
   "execution_count": 93,
   "id": "6ca2a099",
   "metadata": {},
   "outputs": [
    {
     "data": {
      "image/png": "[encoded data removed]",
      "text/plain": [
       "<Figure size 720x432 with 1 Axes>"
      ]
     },
     "metadata": {
      "needs_background": "light"
     },
     "output_type": "display_data"
    }
   ],
   "source": [
    "ct = pd.crosstab(df.target, df.sex)\n",
    "\n",
    "# Plot the crosstab as a bar chart\n",
    "ct.plot(kind=\"bar\", figsize=(10, 6), color=[\"salmon\", \"green\"])\n",
    "\n",
    "# Add labels and title\n",
    "plt.title(\"Heart Disease Frequency for Sex\")\n",
    "plt.xlabel(\"0 = No Disease, 1 = Disease\")\n",
    "plt.ylabel(\"Count\")\n",
    "plt.legend([\"Female\", \"Male\"])\n",
    "plt.xticks(rotation=0)\n",
    "\n",
    "# Show the plot\n",
    "plt.show()"
   ]
  },
  {
   "cell_type": "markdown",
   "id": "81db8d73",
   "metadata": {},
   "source": [
    "Males are much more likely for heart diseases.\n"
   ]
  },
  {
   "cell_type": "code",
   "execution_count": 94,
   "id": "74e23ef2",
   "metadata": {},
   "outputs": [
    {
     "data": {
      "text/plain": [
       "array([1, 0], dtype=int64)"
      ]
     },
     "execution_count": 94,
     "metadata": {},
     "output_type": "execute_result"
    }
   ],
   "source": [
    "df[\"sex\"].unique()\n"
   ]
  },
  {
   "cell_type": "code",
   "execution_count": 95,
   "id": "310b22e9",
   "metadata": {},
   "outputs": [
    {
     "name": "stderr",
     "output_type": "stream",
     "text": [
      "C:\\Users\\tripa\\anaconda3\\lib\\site-packages\\seaborn\\_decorators.py:36: FutureWarning: Pass the following variables as keyword args: x, y. From version 0.12, the only valid positional argument will be `data`, and passing other arguments without an explicit keyword will result in an error or misinterpretation.\n",
      "  warnings.warn(\n"
     ]
    },
    {
     "data": {
      "text/plain": [
       "<AxesSubplot:xlabel='sex', ylabel='target'>"
      ]
     },
     "execution_count": 95,
     "metadata": {},
     "output_type": "execute_result"
    },
    {
     "data": {
      "image/png": "[encoded data removed]",
      "text/plain": [
       "<Figure size 432x288 with 1 Axes>"
      ]
     },
     "metadata": {
      "needs_background": "light"
     },
     "output_type": "display_data"
    }
   ],
   "source": [
    "sns.barplot(df[\"sex\"],y)\n"
   ]
  },
  {
   "cell_type": "markdown",
   "id": "b0f6c88a",
   "metadata": {},
   "source": [
    "**We see that females are more likely to have heart problems than males**"
   ]
  },
  {
   "cell_type": "markdown",
   "id": "99a515d4",
   "metadata": {},
   "source": [
    "## Analysing the 'Chest Pain Type' feature"
   ]
  },
  {
   "cell_type": "markdown",
   "id": "26dd5e36",
   "metadata": {},
   "source": [
    "**Type of chest pain experienced by patient. This term is categorized into 4 category.**\n",
    "\n",
    "0 typical angina\n",
    "\n",
    "1 atypical angina\n",
    "\n",
    "2 non- anginal pain\n",
    "\n",
    "3 asymptomatic \n"
   ]
  },
  {
   "cell_type": "code",
   "execution_count": 96,
   "id": "d6f54d7c",
   "metadata": {},
   "outputs": [
    {
     "data": {
      "text/plain": [
       "array([0, 3, 2, 1], dtype=int64)"
      ]
     },
     "execution_count": 96,
     "metadata": {},
     "output_type": "execute_result"
    }
   ],
   "source": [
    "df[\"cp\"].unique()\n"
   ]
  },
  {
   "cell_type": "code",
   "execution_count": 97,
   "id": "0c09c2ff",
   "metadata": {},
   "outputs": [
    {
     "name": "stderr",
     "output_type": "stream",
     "text": [
      "C:\\Users\\tripa\\anaconda3\\lib\\site-packages\\seaborn\\_decorators.py:36: FutureWarning: Pass the following variable as a keyword arg: x. From version 0.12, the only valid positional argument will be `data`, and passing other arguments without an explicit keyword will result in an error or misinterpretation.\n",
      "  warnings.warn(\n"
     ]
    },
    {
     "data": {
      "image/png": "[encoded data removed]",
      "text/plain": [
       "<Figure size 720x432 with 2 Axes>"
      ]
     },
     "metadata": {
      "needs_background": "light"
     },
     "output_type": "display_data"
    }
   ],
   "source": [
    "f,ax=plt.subplots(1,2,figsize=(10,6))\n",
    "df[\"cp\"].value_counts().plot.pie(ax = ax[0],autopct='%1.1f%%',explode = [0,0.05,0.05,0.05])\n",
    "ax[0].set_title(\"Distribution of Chest Pain Types\")\n",
    "\n",
    "sns.countplot('cp',data=df,ax=ax[1],order=df['cp'].value_counts().index)\n",
    "ax[1].set_title(\"Count of Chest Pain Types\")\n",
    "plt.show()"
   ]
  },
  {
   "cell_type": "markdown",
   "id": "7f0a1dcb",
   "metadata": {},
   "source": [
    " So ,most of patients have chest pain type as asymptomatic"
   ]
  },
  {
   "cell_type": "code",
   "execution_count": 98,
   "id": "1c314ee1",
   "metadata": {},
   "outputs": [
    {
     "name": "stderr",
     "output_type": "stream",
     "text": [
      "C:\\Users\\tripa\\anaconda3\\lib\\site-packages\\seaborn\\_decorators.py:36: FutureWarning: Pass the following variables as keyword args: x, y. From version 0.12, the only valid positional argument will be `data`, and passing other arguments without an explicit keyword will result in an error or misinterpretation.\n",
      "  warnings.warn(\n"
     ]
    },
    {
     "data": {
      "text/plain": [
       "<AxesSubplot:xlabel='cp', ylabel='target'>"
      ]
     },
     "execution_count": 98,
     "metadata": {},
     "output_type": "execute_result"
    },
    {
     "data": {
      "image/png": "[encoded data removed]",
      "text/plain": [
       "<Figure size 432x288 with 1 Axes>"
      ]
     },
     "metadata": {
      "needs_background": "light"
     },
     "output_type": "display_data"
    }
   ],
   "source": [
    "sns.barplot(df[\"cp\"],y)\n"
   ]
  },
  {
   "cell_type": "code",
   "execution_count": 99,
   "id": "1d987a73",
   "metadata": {},
   "outputs": [
    {
     "data": {
      "text/html": [
       "<div>\n",
       "<style scoped>\n",
       "    .dataframe tbody tr th:only-of-type {\n",
       "        vertical-align: middle;\n",
       "    }\n",
       "\n",
       "    .dataframe tbody tr th {\n",
       "        vertical-align: top;\n",
       "    }\n",
       "\n",
       "    .dataframe thead th {\n",
       "        text-align: right;\n",
       "    }\n",
       "</style>\n",
       "<table border=\"1\" class=\"dataframe\">\n",
       "  <thead>\n",
       "    <tr style=\"text-align: right;\">\n",
       "      <th>target</th>\n",
       "      <th>0</th>\n",
       "      <th>1</th>\n",
       "    </tr>\n",
       "    <tr>\n",
       "      <th>cp</th>\n",
       "      <th></th>\n",
       "      <th></th>\n",
       "    </tr>\n",
       "  </thead>\n",
       "  <tbody>\n",
       "    <tr>\n",
       "      <th>0</th>\n",
       "      <td>16</td>\n",
       "      <td>7</td>\n",
       "    </tr>\n",
       "    <tr>\n",
       "      <th>1</th>\n",
       "      <td>41</td>\n",
       "      <td>9</td>\n",
       "    </tr>\n",
       "    <tr>\n",
       "      <th>2</th>\n",
       "      <td>68</td>\n",
       "      <td>18</td>\n",
       "    </tr>\n",
       "    <tr>\n",
       "      <th>3</th>\n",
       "      <td>39</td>\n",
       "      <td>105</td>\n",
       "    </tr>\n",
       "  </tbody>\n",
       "</table>\n",
       "</div>"
      ],
      "text/plain": [
       "target   0    1\n",
       "cp             \n",
       "0       16    7\n",
       "1       41    9\n",
       "2       68   18\n",
       "3       39  105"
      ]
     },
     "execution_count": 99,
     "metadata": {},
     "output_type": "execute_result"
    }
   ],
   "source": [
    "pd.crosstab(df.cp, df.target)"
   ]
  },
  {
   "cell_type": "code",
   "execution_count": 100,
   "id": "96026739",
   "metadata": {},
   "outputs": [
    {
     "data": {
      "text/plain": [
       "<Figure size 720x432 with 0 Axes>"
      ]
     },
     "metadata": {},
     "output_type": "display_data"
    },
    {
     "data": {
      "image/png": "[encoded data removed]",
      "text/plain": [
       "<Figure size 432x288 with 1 Axes>"
      ]
     },
     "metadata": {
      "needs_background": "light"
     },
     "output_type": "display_data"
    }
   ],
   "source": [
    "# Create a bar chart to show Heart Disease Frequency per Chest Pain Type\n",
    "plt.figure(figsize=(10, 6))\n",
    "pd.crosstab(df.cp, df.target).plot(kind=\"bar\", color=[\"Red\", \"Blue\"])\n",
    "\n",
    "# Add chart title, labels and legend\n",
    "plt.title(\"Heart Disease Frequency per Chest Pain Type\", fontsize=16, fontweight='bold')\n",
    "plt.xlabel(\"Chest Pain Type\", fontsize=14)\n",
    "plt.ylabel(\"Number of Patients\", fontsize=14)\n",
    "plt.legend([\"No Disease\", \"Disease\"], fontsize=12)\n",
    "plt.xticks(rotation=0, fontsize=12)\n",
    "plt.yticks(fontsize=12)\n",
    "\n",
    "plt.show()\n"
   ]
  },
  {
   "cell_type": "markdown",
   "id": "07949dee",
   "metadata": {},
   "source": [
    "Chest pain type  has no direct relation on the outcome.Asymptomatic chest pains having highest disease outcome."
   ]
  },
  {
   "cell_type": "markdown",
   "id": "ff933223",
   "metadata": {},
   "source": [
    "## Analysing the FBS(Fasting Blood Sugar) feature"
   ]
  },
  {
   "cell_type": "code",
   "execution_count": 101,
   "id": "c988b1bb",
   "metadata": {},
   "outputs": [
    {
     "data": {
      "text/plain": [
       "count    303.000000\n",
       "mean       0.148515\n",
       "std        0.356198\n",
       "min        0.000000\n",
       "25%        0.000000\n",
       "50%        0.000000\n",
       "75%        0.000000\n",
       "max        1.000000\n",
       "Name: fbs, dtype: float64"
      ]
     },
     "execution_count": 101,
     "metadata": {},
     "output_type": "execute_result"
    }
   ],
   "source": [
    "df[\"fbs\"].describe()\n"
   ]
  },
  {
   "cell_type": "code",
   "execution_count": 102,
   "id": "e038920b",
   "metadata": {},
   "outputs": [
    {
     "data": {
      "text/plain": [
       "array([1, 0], dtype=int64)"
      ]
     },
     "execution_count": 102,
     "metadata": {},
     "output_type": "execute_result"
    }
   ],
   "source": [
    "df[\"fbs\"].unique()\n"
   ]
  },
  {
   "cell_type": "code",
   "execution_count": 103,
   "id": "077104cc",
   "metadata": {},
   "outputs": [
    {
     "name": "stderr",
     "output_type": "stream",
     "text": [
      "C:\\Users\\tripa\\anaconda3\\lib\\site-packages\\seaborn\\_decorators.py:36: FutureWarning: Pass the following variables as keyword args: x, y. From version 0.12, the only valid positional argument will be `data`, and passing other arguments without an explicit keyword will result in an error or misinterpretation.\n",
      "  warnings.warn(\n"
     ]
    },
    {
     "data": {
      "text/plain": [
       "<AxesSubplot:xlabel='fbs', ylabel='target'>"
      ]
     },
     "execution_count": 103,
     "metadata": {},
     "output_type": "execute_result"
    },
    {
     "data": {
      "image/png": "[encoded data removed]",
      "text/plain": [
       "<Figure size 432x288 with 1 Axes>"
      ]
     },
     "metadata": {
      "needs_background": "light"
     },
     "output_type": "display_data"
    }
   ],
   "source": [
    "sns.barplot(df[\"fbs\"],y)\n"
   ]
  },
  {
   "cell_type": "markdown",
   "id": "e826f368",
   "metadata": {},
   "source": [
    "**Blood sugar has no direct effect on the disease.**\n",
    "\n"
   ]
  },
  {
   "cell_type": "markdown",
   "id": "85e67eff",
   "metadata": {},
   "source": [
    "## Analysing the restecg(resting electrocardiographic) feature\n"
   ]
  },
  {
   "cell_type": "markdown",
   "id": "a2a3abf3",
   "metadata": {},
   "source": [
    "Result of electrocardiogram while at rest are represented in 3 distinct values\n",
    "\n",
    "0 : Normal \n",
    "\n",
    "1: having ST-T wave abnormality (T wave inversions and/or ST elevation or depression of >\n",
    "0.05 mV) \n",
    "\n",
    "2: showing probable or definite left ventricular hypertrophyby Estes' criteria (Nominal)\n"
   ]
  },
  {
   "cell_type": "code",
   "execution_count": 104,
   "id": "4f875d41",
   "metadata": {},
   "outputs": [
    {
     "data": {
      "text/plain": [
       "array([2, 0, 1], dtype=int64)"
      ]
     },
     "execution_count": 104,
     "metadata": {},
     "output_type": "execute_result"
    }
   ],
   "source": [
    "df[\"restecg\"].unique()\n"
   ]
  },
  {
   "cell_type": "code",
   "execution_count": 105,
   "id": "6c7150ea",
   "metadata": {},
   "outputs": [
    {
     "name": "stderr",
     "output_type": "stream",
     "text": [
      "C:\\Users\\tripa\\anaconda3\\lib\\site-packages\\seaborn\\_decorators.py:36: FutureWarning: Pass the following variables as keyword args: x, y. From version 0.12, the only valid positional argument will be `data`, and passing other arguments without an explicit keyword will result in an error or misinterpretation.\n",
      "  warnings.warn(\n"
     ]
    },
    {
     "data": {
      "text/plain": [
       "<AxesSubplot:xlabel='restecg', ylabel='target'>"
      ]
     },
     "execution_count": 105,
     "metadata": {},
     "output_type": "execute_result"
    },
    {
     "data": {
      "image/png": "[encoded data removed]",
      "text/plain": [
       "<Figure size 432x288 with 1 Axes>"
      ]
     },
     "metadata": {
      "needs_background": "light"
     },
     "output_type": "display_data"
    }
   ],
   "source": [
    "sns.barplot(df[\"restecg\"],y)\n"
   ]
  },
  {
   "cell_type": "code",
   "execution_count": 106,
   "id": "2bd48d54",
   "metadata": {},
   "outputs": [
    {
     "data": {
      "text/plain": [
       "<AxesSubplot:xlabel='restecg', ylabel='count'>"
      ]
     },
     "execution_count": 106,
     "metadata": {},
     "output_type": "execute_result"
    },
    {
     "data": {
      "image/png": "[encoded data removed]",
      "text/plain": [
       "<Figure size 432x288 with 1 Axes>"
      ]
     },
     "metadata": {
      "needs_background": "light"
     },
     "output_type": "display_data"
    }
   ],
   "source": [
    "sns.countplot( x=df['restecg'], hue=df['target'])\n"
   ]
  },
  {
   "cell_type": "markdown",
   "id": "c2b3674b",
   "metadata": {},
   "source": [
    "Rest ECG results showing no direct results but having normal ECG is a good sign. Even though it's quite rare in the data.\n",
    "\n",
    "If someone has ST-T wave abnormality,he is more likely to have heart disease."
   ]
  },
  {
   "cell_type": "code",
   "execution_count": null,
   "id": "d0e380a6",
   "metadata": {},
   "outputs": [],
   "source": []
  },
  {
   "cell_type": "markdown",
   "id": "6eaab2ff",
   "metadata": {},
   "source": [
    "## Analysing the 'exang' feature"
   ]
  },
  {
   "cell_type": "markdown",
   "id": "14e2dc0e",
   "metadata": {},
   "source": [
    "Angina induced by exercise \n",
    "\n",
    "0 depicting NO \n",
    "\n",
    "1 depicting Yes "
   ]
  },
  {
   "cell_type": "code",
   "execution_count": 107,
   "id": "039748c1",
   "metadata": {},
   "outputs": [
    {
     "data": {
      "text/plain": [
       "array([0, 1], dtype=int64)"
      ]
     },
     "execution_count": 107,
     "metadata": {},
     "output_type": "execute_result"
    }
   ],
   "source": [
    "df[\"exang\"].unique()\n"
   ]
  },
  {
   "cell_type": "code",
   "execution_count": 108,
   "id": "0098dd23",
   "metadata": {},
   "outputs": [
    {
     "name": "stderr",
     "output_type": "stream",
     "text": [
      "C:\\Users\\tripa\\anaconda3\\lib\\site-packages\\seaborn\\_decorators.py:36: FutureWarning: Pass the following variables as keyword args: x, y. From version 0.12, the only valid positional argument will be `data`, and passing other arguments without an explicit keyword will result in an error or misinterpretation.\n",
      "  warnings.warn(\n"
     ]
    },
    {
     "data": {
      "text/plain": [
       "<AxesSubplot:xlabel='exang', ylabel='target'>"
      ]
     },
     "execution_count": 108,
     "metadata": {},
     "output_type": "execute_result"
    },
    {
     "data": {
      "image/png": "[encoded data removed]",
      "text/plain": [
       "<Figure size 432x288 with 1 Axes>"
      ]
     },
     "metadata": {
      "needs_background": "light"
     },
     "output_type": "display_data"
    }
   ],
   "source": [
    "sns.barplot(df[\"exang\"],y)\n"
   ]
  },
  {
   "cell_type": "markdown",
   "id": "73076fda",
   "metadata": {},
   "source": [
    "## Analysing the Slope feature"
   ]
  },
  {
   "cell_type": "markdown",
   "id": "f506ee88",
   "metadata": {},
   "source": [
    "**slope**: ST segment measured in terms of slope during peak exercise\n",
    "\n",
    "0: up sloping; \n",
    "\n",
    "1: flat; \n",
    "\n",
    "2: down sloping(Nominal)\n"
   ]
  },
  {
   "cell_type": "code",
   "execution_count": 109,
   "id": "78af8473",
   "metadata": {},
   "outputs": [
    {
     "data": {
      "text/plain": [
       "array([2, 1, 0], dtype=int64)"
      ]
     },
     "execution_count": 109,
     "metadata": {},
     "output_type": "execute_result"
    }
   ],
   "source": [
    "df[\"slope\"].unique()\n"
   ]
  },
  {
   "cell_type": "code",
   "execution_count": 110,
   "id": "92673026",
   "metadata": {},
   "outputs": [
    {
     "name": "stderr",
     "output_type": "stream",
     "text": [
      "C:\\Users\\tripa\\anaconda3\\lib\\site-packages\\seaborn\\_decorators.py:36: FutureWarning: Pass the following variables as keyword args: x, y. From version 0.12, the only valid positional argument will be `data`, and passing other arguments without an explicit keyword will result in an error or misinterpretation.\n",
      "  warnings.warn(\n"
     ]
    },
    {
     "data": {
      "text/plain": [
       "<AxesSubplot:xlabel='slope', ylabel='target'>"
      ]
     },
     "execution_count": 110,
     "metadata": {},
     "output_type": "execute_result"
    },
    {
     "data": {
      "image/png": "[encoded data removed]",
      "text/plain": [
       "<Figure size 432x288 with 1 Axes>"
      ]
     },
     "metadata": {
      "needs_background": "light"
     },
     "output_type": "display_data"
    }
   ],
   "source": [
    "sns.barplot(df[\"slope\"],y)\n"
   ]
  },
  {
   "cell_type": "markdown",
   "id": "c02ae049",
   "metadata": {},
   "source": [
    "**Patients who had flat slope distribution are more likely to have disease.**"
   ]
  },
  {
   "cell_type": "markdown",
   "id": "5b3b70fd",
   "metadata": {},
   "source": [
    "## Analysing the 'ca' feature"
   ]
  },
  {
   "cell_type": "code",
   "execution_count": 111,
   "id": "8e5c7682",
   "metadata": {},
   "outputs": [
    {
     "data": {
      "text/plain": [
       "array([0, 3, 2, 1], dtype=int64)"
      ]
     },
     "execution_count": 111,
     "metadata": {},
     "output_type": "execute_result"
    }
   ],
   "source": [
    "df[\"ca\"].unique()\n"
   ]
  },
  {
   "cell_type": "code",
   "execution_count": 112,
   "id": "e9eb533e",
   "metadata": {},
   "outputs": [
    {
     "name": "stderr",
     "output_type": "stream",
     "text": [
      "C:\\Users\\tripa\\anaconda3\\lib\\site-packages\\seaborn\\_decorators.py:36: FutureWarning: Pass the following variable as a keyword arg: x. From version 0.12, the only valid positional argument will be `data`, and passing other arguments without an explicit keyword will result in an error or misinterpretation.\n",
      "  warnings.warn(\n"
     ]
    },
    {
     "data": {
      "text/plain": [
       "<AxesSubplot:xlabel='ca', ylabel='count'>"
      ]
     },
     "execution_count": 112,
     "metadata": {},
     "output_type": "execute_result"
    },
    {
     "data": {
      "image/png": "[encoded data removed]",
      "text/plain": [
       "<Figure size 432x288 with 1 Axes>"
      ]
     },
     "metadata": {
      "needs_background": "light"
     },
     "output_type": "display_data"
    }
   ],
   "source": [
    "sns.countplot(df[\"ca\"])\n"
   ]
  },
  {
   "cell_type": "code",
   "execution_count": 113,
   "id": "44e1ea60",
   "metadata": {},
   "outputs": [
    {
     "name": "stderr",
     "output_type": "stream",
     "text": [
      "C:\\Users\\tripa\\anaconda3\\lib\\site-packages\\seaborn\\_decorators.py:36: FutureWarning: Pass the following variables as keyword args: x, y. From version 0.12, the only valid positional argument will be `data`, and passing other arguments without an explicit keyword will result in an error or misinterpretation.\n",
      "  warnings.warn(\n"
     ]
    },
    {
     "data": {
      "text/plain": [
       "<AxesSubplot:xlabel='ca', ylabel='target'>"
      ]
     },
     "execution_count": 113,
     "metadata": {},
     "output_type": "execute_result"
    },
    {
     "data": {
      "image/png": "[encoded data removed]",
      "text/plain": [
       "<Figure size 432x288 with 1 Axes>"
      ]
     },
     "metadata": {
      "needs_background": "light"
     },
     "output_type": "display_data"
    }
   ],
   "source": [
    "sns.barplot(df[\"ca\"],y)\n"
   ]
  },
  {
   "cell_type": "markdown",
   "id": "53f94690",
   "metadata": {},
   "source": [
    "## Analysing the 'thal' feature\n"
   ]
  },
  {
   "cell_type": "markdown",
   "id": "fa0209a7",
   "metadata": {},
   "source": [
    "thal: A blood disorder called thalassemia\n",
    "\n",
    "0: NULL \n",
    "\n",
    "1: normal blood flow \n",
    "\n",
    "2: fixed defect (no blood flow in some part of the heart) \n",
    "\n",
    "3: reversible defect (a blood flow is observed but it is not normal(nominal)\n"
   ]
  },
  {
   "cell_type": "code",
   "execution_count": 114,
   "id": "250fd789",
   "metadata": {},
   "outputs": [
    {
     "data": {
      "text/plain": [
       "array([2, 1, 3], dtype=int64)"
      ]
     },
     "execution_count": 114,
     "metadata": {},
     "output_type": "execute_result"
    }
   ],
   "source": [
    "df[\"thal\"].unique()\n"
   ]
  },
  {
   "cell_type": "code",
   "execution_count": 115,
   "id": "f2f0ed87",
   "metadata": {},
   "outputs": [
    {
     "name": "stderr",
     "output_type": "stream",
     "text": [
      "C:\\Users\\tripa\\anaconda3\\lib\\site-packages\\seaborn\\_decorators.py:36: FutureWarning: Pass the following variables as keyword args: x, y. From version 0.12, the only valid positional argument will be `data`, and passing other arguments without an explicit keyword will result in an error or misinterpretation.\n",
      "  warnings.warn(\n"
     ]
    },
    {
     "data": {
      "text/plain": [
       "<AxesSubplot:xlabel='thal', ylabel='target'>"
      ]
     },
     "execution_count": 115,
     "metadata": {},
     "output_type": "execute_result"
    },
    {
     "data": {
      "image/png": "[encoded data removed]",
      "text/plain": [
       "<Figure size 432x288 with 1 Axes>"
      ]
     },
     "metadata": {
      "needs_background": "light"
     },
     "output_type": "display_data"
    }
   ],
   "source": [
    "sns.barplot(df[\"thal\"],y)\n"
   ]
  },
  {
   "cell_type": "markdown",
   "id": "c96bf913",
   "metadata": {},
   "source": [
    "**Having defected thalium test results is pretty strong indicator for heart disease**"
   ]
  },
  {
   "cell_type": "code",
   "execution_count": 116,
   "id": "e979b495",
   "metadata": {},
   "outputs": [
    {
     "name": "stderr",
     "output_type": "stream",
     "text": [
      "C:\\Users\\tripa\\anaconda3\\lib\\site-packages\\seaborn\\distributions.py:2619: FutureWarning: `distplot` is a deprecated function and will be removed in a future version. Please adapt your code to use either `displot` (a figure-level function with similar flexibility) or `histplot` (an axes-level function for histograms).\n",
      "  warnings.warn(msg, FutureWarning)\n"
     ]
    },
    {
     "data": {
      "text/plain": [
       "<AxesSubplot:xlabel='thal', ylabel='Density'>"
      ]
     },
     "execution_count": 116,
     "metadata": {},
     "output_type": "execute_result"
    },
    {
     "data": {
      "image/png": "[encoded data removed]",
      "text/plain": [
       "<Figure size 432x288 with 1 Axes>"
      ]
     },
     "metadata": {
      "needs_background": "light"
     },
     "output_type": "display_data"
    }
   ],
   "source": [
    "sns.distplot(df[\"thal\"])\n"
   ]
  },
  {
   "cell_type": "markdown",
   "id": "1e58ea0d",
   "metadata": {},
   "source": [
    "## Analyzing Age"
   ]
  },
  {
   "cell_type": "code",
   "execution_count": 117,
   "id": "99f19703",
   "metadata": {},
   "outputs": [
    {
     "name": "stderr",
     "output_type": "stream",
     "text": [
      "C:\\Users\\tripa\\anaconda3\\lib\\site-packages\\seaborn\\distributions.py:2619: FutureWarning: `distplot` is a deprecated function and will be removed in a future version. Please adapt your code to use either `displot` (a figure-level function with similar flexibility) or `histplot` (an axes-level function for histograms).\n",
      "  warnings.warn(msg, FutureWarning)\n"
     ]
    },
    {
     "data": {
      "text/plain": [
       "Text(0.5, 1.0, 'ploting age')"
      ]
     },
     "execution_count": 117,
     "metadata": {},
     "output_type": "execute_result"
    },
    {
     "data": {
      "image/png": "[encoded data removed]",
      "text/plain": [
       "<Figure size 432x288 with 1 Axes>"
      ]
     },
     "metadata": {
      "needs_background": "light"
     },
     "output_type": "display_data"
    }
   ],
   "source": [
    "sns.distplot(df[\"age\"])\n",
    "plt.title(\"ploting age\")\n"
   ]
  },
  {
   "cell_type": "code",
   "execution_count": 118,
   "id": "0b6e1125",
   "metadata": {},
   "outputs": [
    {
     "name": "stdout",
     "output_type": "stream",
     "text": [
      "Minimum age: 29\n",
      "Maximum age: 77\n",
      "Average age: 54.43894389438944\n"
     ]
    }
   ],
   "source": [
    "#to find minimum and maximum ages\n",
    "minAge =min(df[\"age\"])\n",
    "maxAge =max(df[\"age\"])\n",
    "avgAge = (df[\"age\"]).mean()\n",
    "print(\"Minimum age:\",minAge)\n",
    "print(\"Maximum age:\",maxAge)\n",
    "print(\"Average age:\",avgAge)"
   ]
  },
  {
   "cell_type": "code",
   "execution_count": 119,
   "id": "bcadbb6d",
   "metadata": {},
   "outputs": [
    {
     "name": "stdout",
     "output_type": "stream",
     "text": [
      "Minimum age: 29.0\n",
      "Maximum age: 77.0\n",
      "Average age: 54.43894389438944\n"
     ]
    }
   ],
   "source": [
    "age_stats = df['age'].describe()\n",
    "minAge = age_stats.loc['min']\n",
    "maxAge = age_stats.loc['max']\n",
    "avgAge = age_stats.loc['mean']\n",
    "\n",
    "print(\"Minimum age:\",minAge)\n",
    "print(\"Maximum age:\",maxAge)\n",
    "print(\"Average age:\",avgAge)\n"
   ]
  },
  {
   "cell_type": "code",
   "execution_count": 120,
   "id": "5e3ad955",
   "metadata": {},
   "outputs": [
    {
     "name": "stdout",
     "output_type": "stream",
     "text": [
      "Young age person: 36\n",
      "Intermediate age person: 107\n",
      "Elderly age person 152\n"
     ]
    }
   ],
   "source": [
    "#we can also understand data into age catagries \n",
    "young = df.query('age >= 28 and age < 43')\n",
    "intermediate = df.query('age >= 43 and age < 55')\n",
    "elderly = df.query('age > 55')\n",
    "\n",
    "print(\"Young age person:\",len(young))\n",
    "print(\"Intermediate age person:\",len(intermediate)) \n",
    "print(\"Elderly age person\",len(elderly)) "
   ]
  },
  {
   "cell_type": "code",
   "execution_count": 121,
   "id": "6f289c9d",
   "metadata": {},
   "outputs": [
    {
     "data": {
      "text/plain": [
       "<AxesSubplot:>"
      ]
     },
     "execution_count": 121,
     "metadata": {},
     "output_type": "execute_result"
    },
    {
     "data": {
      "image/png": "[encoded data removed]",
      "text/plain": [
       "<Figure size 432x288 with 1 Axes>"
      ]
     },
     "metadata": {
      "needs_background": "light"
     },
     "output_type": "display_data"
    }
   ],
   "source": [
    "sns.barplot(x = [\"Young ages\",\"Intermediate Ages\",\"Elderly ages\"], y =[len(young),len(intermediate),len(elderly)], color = \"Lightgreen\")\n"
   ]
  },
  {
   "cell_type": "markdown",
   "id": "ab0e142d",
   "metadata": {},
   "source": [
    "### Age vs. Max Heart Rate for Heart Disease"
   ]
  },
  {
   "cell_type": "code",
   "execution_count": 122,
   "id": "6447c8ec",
   "metadata": {},
   "outputs": [
    {
     "data": {
      "text/plain": [
       "<AxesSubplot:xlabel='target', ylabel='thalach'>"
      ]
     },
     "execution_count": 122,
     "metadata": {},
     "output_type": "execute_result"
    },
    {
     "data": {
      "image/png": "[encoded data removed]",
      "text/plain": [
       "<Figure size 432x288 with 1 Axes>"
      ]
     },
     "metadata": {
      "needs_background": "light"
     },
     "output_type": "display_data"
    }
   ],
   "source": [
    "sns.boxplot(y=df['thalach'], x=df['target'])\n"
   ]
  },
  {
   "cell_type": "markdown",
   "id": "57a36ce8",
   "metadata": {},
   "source": [
    "This shows people having heart disease have a high max heart rate\n",
    "\n"
   ]
  },
  {
   "cell_type": "code",
   "execution_count": 123,
   "id": "bb03ce3d",
   "metadata": {},
   "outputs": [
    {
     "data": {
      "text/plain": [
       "<matplotlib.legend.Legend at 0x2117ce2d2b0>"
      ]
     },
     "execution_count": 123,
     "metadata": {},
     "output_type": "execute_result"
    },
    {
     "data": {
      "image/png": "[encoded data removed]",
      "text/plain": [
       "<Figure size 720x432 with 1 Axes>"
      ]
     },
     "metadata": {
      "needs_background": "light"
     },
     "output_type": "display_data"
    }
   ],
   "source": [
    "plt.figure(figsize=(10, 6))\n",
    "\n",
    "#Scatter with positive examples\n",
    "plt.scatter(df.age[df.target == 1], df.thalach[df.target == 1], c=\"Red\", label=\"Disease\")\n",
    "\n",
    "#Scatter with negative examples\n",
    "plt.scatter(df.age[df.target == 0], df.thalach[df.target == 0], c=\"lightGreen\", label=\"No Disease\")\n",
    "\n",
    "\n",
    "plt.title(\"Heart disease in function of Age and Max Heart Rate\")\n",
    "plt.xlabel(\"Age\")\n",
    "plt.ylabel(\"Max Heart Rate\")\n",
    "plt.legend()"
   ]
  },
  {
   "cell_type": "markdown",
   "id": "674efaaa",
   "metadata": {},
   "source": [
    "It appears that younger individuals tend to have higher maximum heart rates, as evidenced by the concentration of dots towards the left side of the graph. Additionally, there seems to be a greater prevalence of heart disease in older individuals, as suggested by the larger number of blue dots towards the right side of the graph. \n",
    "\n",
    "However, it's important to note that this could be due to the fact that there are simply more data points in that age range. Overall, these observations are merely preliminary, but they do provide some insight into the relationship between age, maximum heart rate, and heart disease."
   ]
  },
  {
   "cell_type": "markdown",
   "id": "47940610",
   "metadata": {},
   "source": [
    "### Analyzing Oldpeak "
   ]
  },
  {
   "cell_type": "code",
   "execution_count": 124,
   "id": "4f66ff7c",
   "metadata": {},
   "outputs": [
    {
     "data": {
      "text/plain": [
       "<AxesSubplot:xlabel='target', ylabel='oldpeak'>"
      ]
     },
     "execution_count": 124,
     "metadata": {},
     "output_type": "execute_result"
    },
    {
     "data": {
      "image/png": "[encoded data removed]",
      "text/plain": [
       "<Figure size 432x288 with 1 Axes>"
      ]
     },
     "metadata": {
      "needs_background": "light"
     },
     "output_type": "display_data"
    }
   ],
   "source": [
    "sns.barplot(x=df[\"target\"], y=df[\"oldpeak\"])\n"
   ]
  },
  {
   "cell_type": "markdown",
   "id": "f13fc067",
   "metadata": {},
   "source": [
    "# Correlation Matrix"
   ]
  },
  {
   "cell_type": "code",
   "execution_count": 125,
   "id": "2cb379d1",
   "metadata": {},
   "outputs": [
    {
     "data": {
      "text/plain": [
       "Text(0.5, 1.0, 'Correlation Matrix Heatmap')"
      ]
     },
     "execution_count": 125,
     "metadata": {},
     "output_type": "execute_result"
    },
    {
     "data": {
      "image/png": "[encoded data removed]",
      "text/plain": [
       "<Figure size 864x720 with 2 Axes>"
      ]
     },
     "metadata": {
      "needs_background": "light"
     },
     "output_type": "display_data"
    }
   ],
   "source": [
    "import seaborn as sns\n",
    "\n",
    "# Get correlations of each features in dataset\n",
    "corrmat = df.corr()\n",
    "top_corr_features = corrmat.index\n",
    "\n",
    "# Set figure size\n",
    "plt.figure(figsize=(12, 10))\n",
    "\n",
    "# Plot heatmap\n",
    "g = sns.heatmap(df[top_corr_features].corr(),\n",
    "                annot=True,\n",
    "                cmap=\"RdYlGn\",\n",
    "                linewidths=.5,\n",
    "                center=0)\n",
    "\n",
    "# Set title\n",
    "plt.title(\"Correlation Matrix Heatmap\")\n"
   ]
  },
  {
   "cell_type": "markdown",
   "id": "4ee6ce72",
   "metadata": {},
   "source": [
    "Positive correlation indicates that features are highly correlated .And  negative correlation indicates that features are less correlated.\n",
    "\n",
    "**top 5 features that are highly correlated to heart disease are:**\n",
    "\n",
    "thal\n",
    "\n",
    "ca\n",
    "\n",
    "exang\n",
    "\n",
    "oldpeak\n",
    "\n",
    "cp"
   ]
  },
  {
   "cell_type": "markdown",
   "id": "a94a53c9",
   "metadata": {},
   "source": [
    "# Data Pre-Processing"
   ]
  },
  {
   "cell_type": "markdown",
   "id": "cc0b14eb",
   "metadata": {},
   "source": [
    "This database contains 13 attributes and a target variable. It has 8 nominal values and 5 numeric values.\n",
    "\n",
    " So,we need to convert those nominal values into dummy variables and scale the values "
   ]
  },
  {
   "cell_type": "code",
   "execution_count": 126,
   "id": "12cd5edf",
   "metadata": {},
   "outputs": [],
   "source": [
    "df = pd.get_dummies(df, columns = ['sex', 'cp', 'fbs', 'restecg', 'exang', 'slope', 'ca', 'thal'])\n"
   ]
  },
  {
   "cell_type": "code",
   "execution_count": 127,
   "id": "ad44aa1b",
   "metadata": {},
   "outputs": [],
   "source": [
    "from sklearn.preprocessing import StandardScaler\n",
    "\n",
    "# Select the numeric columns to be scaled\n",
    "numeric_cols = ['age', 'trestbps', 'chol', 'thalach', 'oldpeak']\n",
    "\n",
    "# Instantiate a StandardScaler object\n",
    "scaler = StandardScaler()\n",
    "\n",
    "# Fit the scaler on the numeric columns\n",
    "scaler.fit(df[numeric_cols])\n",
    "\n",
    "# Transform the numeric columns using the scaler\n",
    "df[numeric_cols] = scaler.transform(df[numeric_cols])\n"
   ]
  },
  {
   "cell_type": "code",
   "execution_count": 128,
   "id": "3fc83613",
   "metadata": {},
   "outputs": [
    {
     "data": {
      "text/html": [
       "<div>\n",
       "<style scoped>\n",
       "    .dataframe tbody tr th:only-of-type {\n",
       "        vertical-align: middle;\n",
       "    }\n",
       "\n",
       "    .dataframe tbody tr th {\n",
       "        vertical-align: top;\n",
       "    }\n",
       "\n",
       "    .dataframe thead th {\n",
       "        text-align: right;\n",
       "    }\n",
       "</style>\n",
       "<table border=\"1\" class=\"dataframe\">\n",
       "  <thead>\n",
       "    <tr style=\"text-align: right;\">\n",
       "      <th></th>\n",
       "      <th>age</th>\n",
       "      <th>trestbps</th>\n",
       "      <th>chol</th>\n",
       "      <th>thalach</th>\n",
       "      <th>oldpeak</th>\n",
       "      <th>target</th>\n",
       "      <th>sex_0</th>\n",
       "      <th>sex_1</th>\n",
       "      <th>cp_0</th>\n",
       "      <th>cp_1</th>\n",
       "      <th>...</th>\n",
       "      <th>slope_0</th>\n",
       "      <th>slope_1</th>\n",
       "      <th>slope_2</th>\n",
       "      <th>ca_0</th>\n",
       "      <th>ca_1</th>\n",
       "      <th>ca_2</th>\n",
       "      <th>ca_3</th>\n",
       "      <th>thal_1</th>\n",
       "      <th>thal_2</th>\n",
       "      <th>thal_3</th>\n",
       "    </tr>\n",
       "  </thead>\n",
       "  <tbody>\n",
       "    <tr>\n",
       "      <th>0</th>\n",
       "      <td>0.948726</td>\n",
       "      <td>0.757525</td>\n",
       "      <td>-0.264900</td>\n",
       "      <td>0.017197</td>\n",
       "      <td>1.087338</td>\n",
       "      <td>0</td>\n",
       "      <td>0</td>\n",
       "      <td>1</td>\n",
       "      <td>1</td>\n",
       "      <td>0</td>\n",
       "      <td>...</td>\n",
       "      <td>0</td>\n",
       "      <td>0</td>\n",
       "      <td>1</td>\n",
       "      <td>1</td>\n",
       "      <td>0</td>\n",
       "      <td>0</td>\n",
       "      <td>0</td>\n",
       "      <td>0</td>\n",
       "      <td>1</td>\n",
       "      <td>0</td>\n",
       "    </tr>\n",
       "    <tr>\n",
       "      <th>1</th>\n",
       "      <td>1.392002</td>\n",
       "      <td>1.611220</td>\n",
       "      <td>0.760415</td>\n",
       "      <td>-1.821905</td>\n",
       "      <td>0.397182</td>\n",
       "      <td>1</td>\n",
       "      <td>0</td>\n",
       "      <td>1</td>\n",
       "      <td>0</td>\n",
       "      <td>0</td>\n",
       "      <td>...</td>\n",
       "      <td>0</td>\n",
       "      <td>1</td>\n",
       "      <td>0</td>\n",
       "      <td>0</td>\n",
       "      <td>0</td>\n",
       "      <td>0</td>\n",
       "      <td>1</td>\n",
       "      <td>1</td>\n",
       "      <td>0</td>\n",
       "      <td>0</td>\n",
       "    </tr>\n",
       "    <tr>\n",
       "      <th>2</th>\n",
       "      <td>1.392002</td>\n",
       "      <td>-0.665300</td>\n",
       "      <td>-0.342283</td>\n",
       "      <td>-0.902354</td>\n",
       "      <td>1.346147</td>\n",
       "      <td>1</td>\n",
       "      <td>0</td>\n",
       "      <td>1</td>\n",
       "      <td>0</td>\n",
       "      <td>0</td>\n",
       "      <td>...</td>\n",
       "      <td>0</td>\n",
       "      <td>1</td>\n",
       "      <td>0</td>\n",
       "      <td>0</td>\n",
       "      <td>0</td>\n",
       "      <td>1</td>\n",
       "      <td>0</td>\n",
       "      <td>0</td>\n",
       "      <td>0</td>\n",
       "      <td>1</td>\n",
       "    </tr>\n",
       "    <tr>\n",
       "      <th>3</th>\n",
       "      <td>-1.932564</td>\n",
       "      <td>-0.096170</td>\n",
       "      <td>0.063974</td>\n",
       "      <td>1.637359</td>\n",
       "      <td>2.122573</td>\n",
       "      <td>0</td>\n",
       "      <td>0</td>\n",
       "      <td>1</td>\n",
       "      <td>0</td>\n",
       "      <td>0</td>\n",
       "      <td>...</td>\n",
       "      <td>0</td>\n",
       "      <td>0</td>\n",
       "      <td>1</td>\n",
       "      <td>1</td>\n",
       "      <td>0</td>\n",
       "      <td>0</td>\n",
       "      <td>0</td>\n",
       "      <td>1</td>\n",
       "      <td>0</td>\n",
       "      <td>0</td>\n",
       "    </tr>\n",
       "    <tr>\n",
       "      <th>4</th>\n",
       "      <td>-1.489288</td>\n",
       "      <td>-0.096170</td>\n",
       "      <td>-0.825922</td>\n",
       "      <td>0.980537</td>\n",
       "      <td>0.310912</td>\n",
       "      <td>0</td>\n",
       "      <td>1</td>\n",
       "      <td>0</td>\n",
       "      <td>0</td>\n",
       "      <td>1</td>\n",
       "      <td>...</td>\n",
       "      <td>1</td>\n",
       "      <td>0</td>\n",
       "      <td>0</td>\n",
       "      <td>1</td>\n",
       "      <td>0</td>\n",
       "      <td>0</td>\n",
       "      <td>0</td>\n",
       "      <td>1</td>\n",
       "      <td>0</td>\n",
       "      <td>0</td>\n",
       "    </tr>\n",
       "  </tbody>\n",
       "</table>\n",
       "<p>5 rows × 29 columns</p>\n",
       "</div>"
      ],
      "text/plain": [
       "        age  trestbps      chol   thalach   oldpeak  target  sex_0  sex_1  \\\n",
       "0  0.948726  0.757525 -0.264900  0.017197  1.087338       0      0      1   \n",
       "1  1.392002  1.611220  0.760415 -1.821905  0.397182       1      0      1   \n",
       "2  1.392002 -0.665300 -0.342283 -0.902354  1.346147       1      0      1   \n",
       "3 -1.932564 -0.096170  0.063974  1.637359  2.122573       0      0      1   \n",
       "4 -1.489288 -0.096170 -0.825922  0.980537  0.310912       0      1      0   \n",
       "\n",
       "   cp_0  cp_1  ...  slope_0  slope_1  slope_2  ca_0  ca_1  ca_2  ca_3  thal_1  \\\n",
       "0     1     0  ...        0        0        1     1     0     0     0       0   \n",
       "1     0     0  ...        0        1        0     0     0     0     1       1   \n",
       "2     0     0  ...        0        1        0     0     0     1     0       0   \n",
       "3     0     0  ...        0        0        1     1     0     0     0       1   \n",
       "4     0     1  ...        1        0        0     1     0     0     0       1   \n",
       "\n",
       "   thal_2  thal_3  \n",
       "0       1       0  \n",
       "1       0       0  \n",
       "2       0       1  \n",
       "3       0       0  \n",
       "4       0       0  \n",
       "\n",
       "[5 rows x 29 columns]"
      ]
     },
     "execution_count": 128,
     "metadata": {},
     "output_type": "execute_result"
    }
   ],
   "source": [
    "df.head()"
   ]
  },
  {
   "cell_type": "markdown",
   "id": "3c415820",
   "metadata": {},
   "source": [
    "# Train Test split"
   ]
  },
  {
   "cell_type": "code",
   "execution_count": 129,
   "id": "78447683",
   "metadata": {},
   "outputs": [],
   "source": [
    "y = df['target']\n",
    "X = df.drop(['target'], axis = 1)"
   ]
  },
  {
   "cell_type": "code",
   "execution_count": 130,
   "id": "140c0721",
   "metadata": {},
   "outputs": [],
   "source": [
    "X_train,X_test,y_train,y_test =  train_test_split(X,y,test_size = 0.2,random_state = 42)\n"
   ]
  },
  {
   "cell_type": "code",
   "execution_count": 131,
   "id": "60424a3c",
   "metadata": {},
   "outputs": [
    {
     "data": {
      "text/plain": [
       "(242, 28)"
      ]
     },
     "execution_count": 131,
     "metadata": {},
     "output_type": "execute_result"
    }
   ],
   "source": [
    "X_train.shape\n"
   ]
  },
  {
   "cell_type": "code",
   "execution_count": 132,
   "id": "1bf1d81e",
   "metadata": {},
   "outputs": [
    {
     "data": {
      "text/plain": [
       "(61, 28)"
      ]
     },
     "execution_count": 132,
     "metadata": {},
     "output_type": "execute_result"
    }
   ],
   "source": [
    "X_test.shape\n"
   ]
  },
  {
   "cell_type": "code",
   "execution_count": null,
   "id": "c98298f4",
   "metadata": {},
   "outputs": [],
   "source": []
  },
  {
   "cell_type": "code",
   "execution_count": null,
   "id": "41303d8b",
   "metadata": {},
   "outputs": [],
   "source": []
  },
  {
   "cell_type": "code",
   "execution_count": 133,
   "id": "2fcc5bc4",
   "metadata": {},
   "outputs": [],
   "source": [
    "# Split the dataset into training and testing sets\n",
    "X = df.drop(\"target\", axis=1)\n",
    "y = df[\"target\"]\n",
    "X_train, X_test, y_train, y_test = train_test_split(X, y, test_size=0.2, random_state=42)"
   ]
  },
  {
   "cell_type": "code",
   "execution_count": 134,
   "id": "5bd6d39d",
   "metadata": {},
   "outputs": [
    {
     "name": "stdout",
     "output_type": "stream",
     "text": [
      "Training Logistic Regression...\n",
      "Training KNN...\n",
      "Training Decision Tree Classifier...\n",
      "Training Random Forest Classifier...\n",
      "Training Adaboost Classifier...\n",
      "Training Gaussian Naive Bayes...\n",
      "Training XGBoost Classifier...\n",
      "+--------------------------+----------+-----------+--------+----------+---------+\n",
      "|          Model           | Accuracy | Precision | Recall | F1 Score | ROC-AUC |\n",
      "+--------------------------+----------+-----------+--------+----------+---------+\n",
      "|   Logistic Regression    |  0.8361  |   0.8438  | 0.8438 |  0.8438  |  0.8357 |\n",
      "|           KNN            |  0.9016  |   0.9333  | 0.875  |  0.9032  |  0.903  |\n",
      "| Decision Tree Classifier |  0.7541  |    0.84   | 0.6562 |  0.7368  |  0.7592 |\n",
      "| Random Forest Classifier |  0.9016  |   0.9333  | 0.875  |  0.9032  |  0.903  |\n",
      "|   Adaboost Classifier    |  0.8525  |   0.871   | 0.8438 |  0.8571  |  0.8529 |\n",
      "|   Gaussian Naive Bayes   |  0.9016  |   0.9062  | 0.9062 |  0.9062  |  0.9014 |\n",
      "|    XGBoost Classifier    |  0.8361  |   0.8438  | 0.8438 |  0.8438  |  0.8357 |\n",
      "+--------------------------+----------+-----------+--------+----------+---------+\n"
     ]
    }
   ],
   "source": [
    "import pandas as pd\n",
    "from sklearn.ensemble import RandomForestClassifier, AdaBoostClassifier\n",
    "from sklearn.linear_model import LogisticRegression\n",
    "from sklearn.neighbors import KNeighborsClassifier\n",
    "from sklearn.tree import DecisionTreeClassifier\n",
    "from sklearn.naive_bayes import GaussianNB\n",
    "from sklearn.metrics import accuracy_score, precision_score, recall_score, f1_score,roc_auc_score\n",
    "from sklearn.model_selection import train_test_split, GridSearchCV\n",
    "import xgboost as xgb\n",
    "from sklearn.svm import SVC\n",
    "from prettytable import PrettyTable\n",
    "\n",
    "\n",
    "# Define the models and their respective hyperparameters for hyperparameter tuning\n",
    "models = {\n",
    " 'Logistic Regression': {'model': LogisticRegression(),\n",
    " 'param_grid': {'C': [0.1, 1, 10]}\n",
    " },\n",
    " 'KNN': {'model': KNeighborsClassifier(),\n",
    " 'param_grid': {'n_neighbors': [3, 5, 7]}\n",
    " },\n",
    " 'Decision Tree Classifier': {'model': DecisionTreeClassifier(),\n",
    " 'param_grid': {'max_depth': [None, 5, 10],\n",
    " 'min_samples_split': [2, 5, 10],\n",
    " 'min_samples_leaf': [1, 2, 4]}\n",
    " },\n",
    " 'Random Forest Classifier': {'model': RandomForestClassifier(),\n",
    " 'param_grid': {'n_estimators': [50, 100, 150],\n",
    " 'max_depth': [None, 5, 10],\n",
    " 'min_samples_split': [2, 5, 10],\n",
    " 'min_samples_leaf': [1, 2, 4]}\n",
    " },\n",
    " 'Adaboost Classifier': {'model': AdaBoostClassifier(),\n",
    " 'param_grid': {'n_estimators': [50, 100, 150],\n",
    " 'learning_rate': [0.1, 1, 10]}\n",
    " },\n",
    " 'Gaussian Naive Bayes': {'model': GaussianNB(),\n",
    " 'param_grid': {}\n",
    "},\n",
    " 'XGBoost Classifier': {'model': xgb.XGBClassifier(),\n",
    " 'param_grid': {'n_estimators': [50, 100, 150],\n",
    " 'max_depth': [3, 5, 7],\n",
    " 'learning_rate': [0.01, 0.1, 1]}\n",
    " }\n",
    "}\n",
    "# Train and evaluate the models\n",
    "metrics = PrettyTable()\n",
    "metrics.field_names = [\"Model\", \"Accuracy\", \"Precision\", \"Recall\", \"F1 Score\",\"ROC-AUC\"]\n",
    "for model_name, model_params in models.items():\n",
    " print(f\"Training {model_name}...\")\n",
    " clf = GridSearchCV(model_params['model'], model_params['param_grid'], cv=5, n_jobs=-1)\n",
    " clf.fit(X_train, y_train)\n",
    " y_pred = clf.predict(X_test)\n",
    " acc = accuracy_score(y_test, y_pred)\n",
    " prec = precision_score(y_test, y_pred)\n",
    " rec = recall_score(y_test, y_pred)\n",
    " f1 = f1_score(y_test, y_pred)\n",
    " roc_auc = roc_auc_score(y_test, y_pred)\n",
    "\n",
    " metrics.add_row([model_name, round(acc, 4), round(prec, 4), round(rec, 4), round(f1, 4),round(roc_auc,4)])\n",
    "print(metrics)"
   ]
  },
  {
   "cell_type": "code",
   "execution_count": null,
   "id": "1e824cd1",
   "metadata": {},
   "outputs": [],
   "source": []
  },
  {
   "cell_type": "code",
   "execution_count": null,
   "id": "8c97015f",
   "metadata": {},
   "outputs": [],
   "source": []
  },
  {
   "cell_type": "code",
   "execution_count": null,
   "id": "40d6ba23",
   "metadata": {},
   "outputs": [],
   "source": []
  },
  {
   "cell_type": "markdown",
   "id": "b79c80d5",
   "metadata": {},
   "source": [
    "### Confusion Matrix"
   ]
  },
  {
   "cell_type": "code",
   "execution_count": 135,
   "id": "970756b1",
   "metadata": {},
   "outputs": [
    {
     "name": "stdout",
     "output_type": "stream",
     "text": [
      "Confusion Matrix for Logistic Regression\n"
     ]
    },
    {
     "data": {
      "image/png": "[encoded data removed]",
      "text/plain": [
       "<Figure size 432x288 with 2 Axes>"
      ]
     },
     "metadata": {
      "needs_background": "light"
     },
     "output_type": "display_data"
    },
    {
     "name": "stdout",
     "output_type": "stream",
     "text": [
      "Confusion Matrix for KNN\n"
     ]
    },
    {
     "data": {
      "image/png": "[encoded data removed]",
      "text/plain": [
       "<Figure size 432x288 with 2 Axes>"
      ]
     },
     "metadata": {
      "needs_background": "light"
     },
     "output_type": "display_data"
    },
    {
     "name": "stdout",
     "output_type": "stream",
     "text": [
      "Confusion Matrix for Decision Tree Classifier\n"
     ]
    },
    {
     "data": {
      "image/png": "[encoded data removed]",
      "text/plain": [
       "<Figure size 432x288 with 2 Axes>"
      ]
     },
     "metadata": {
      "needs_background": "light"
     },
     "output_type": "display_data"
    },
    {
     "name": "stdout",
     "output_type": "stream",
     "text": [
      "Confusion Matrix for Random Forest Classifier\n"
     ]
    },
    {
     "data": {
      "image/png": "[encoded data removed]",
      "text/plain": [
       "<Figure size 432x288 with 2 Axes>"
      ]
     },
     "metadata": {
      "needs_background": "light"
     },
     "output_type": "display_data"
    },
    {
     "name": "stdout",
     "output_type": "stream",
     "text": [
      "Confusion Matrix for Adaboost Classifier\n"
     ]
    },
    {
     "data": {
      "image/png": "[encoded data removed]",
      "text/plain": [
       "<Figure size 432x288 with 2 Axes>"
      ]
     },
     "metadata": {
      "needs_background": "light"
     },
     "output_type": "display_data"
    },
    {
     "name": "stdout",
     "output_type": "stream",
     "text": [
      "Confusion Matrix for Gaussian Naive Bayes\n"
     ]
    },
    {
     "data": {
      "image/png": "[encoded data removed]",
      "text/plain": [
       "<Figure size 432x288 with 2 Axes>"
      ]
     },
     "metadata": {
      "needs_background": "light"
     },
     "output_type": "display_data"
    },
    {
     "name": "stdout",
     "output_type": "stream",
     "text": [
      "Confusion Matrix for XGBoost Classifier\n"
     ]
    },
    {
     "data": {
      "image/png": "[encoded data removed]",
      "text/plain": [
       "<Figure size 432x288 with 2 Axes>"
      ]
     },
     "metadata": {
      "needs_background": "light"
     },
     "output_type": "display_data"
    }
   ],
   "source": [
    "#CONFUSION MATRIX FOR ALL MODELS PLOTS\n",
    "\n",
    "import seaborn as sns\n",
    "import matplotlib.pyplot as plt\n",
    "\n",
    "def plot_confusion_matrix(model, X_test, y_test):\n",
    "    y_pred = model.predict(X_test)\n",
    "    cm = confusion_matrix(y_test, y_pred)\n",
    "    ax= plt.subplot()\n",
    "    sns.heatmap(cm, annot=True, ax = ax, cmap='Blues', fmt='g')\n",
    "\n",
    "    ax.set_xlabel('Predicted labels')\n",
    "    ax.set_ylabel('True labels')\n",
    "    ax.set_title('Confusion Matrix')\n",
    "    ax.xaxis.set_ticklabels(['0', '1'])\n",
    "    ax.yaxis.set_ticklabels(['0', '1'])\n",
    "    plt.show()\n",
    "\n",
    "for model_name, model_params in models.items():\n",
    "    print(f\"Confusion Matrix for {model_name}\")\n",
    "    plot_confusion_matrix(clf, X_test, y_test)\n"
   ]
  },
  {
   "cell_type": "markdown",
   "id": "c3347d27",
   "metadata": {},
   "source": [
    "## Hyperparameter tuning of some of models"
   ]
  },
  {
   "cell_type": "markdown",
   "id": "e61da9fe",
   "metadata": {},
   "source": [
    "### KNN"
   ]
  },
  {
   "cell_type": "code",
   "execution_count": 136,
   "id": "fbd109fc",
   "metadata": {},
   "outputs": [
    {
     "name": "stdout",
     "output_type": "stream",
     "text": [
      "Best hyperparameters: {'n_neighbors': 7, 'p': 1, 'weights': 'distance'}\n"
     ]
    }
   ],
   "source": [
    "from sklearn.model_selection import GridSearchCV\n",
    "from sklearn.neighbors import KNeighborsClassifier\n",
    "\n",
    "# define the parameter grid to search over\n",
    "param_grid = {'n_neighbors': [3, 5, 7], 'weights': ['uniform', 'distance'], 'p': [1, 2]}\n",
    "\n",
    "# create a KNN model object\n",
    "knn = KNeighborsClassifier()\n",
    "\n",
    "# create a GridSearchCV object\n",
    "knn_grid = GridSearchCV(knn, param_grid, cv=5)\n",
    "\n",
    "# fit the GridSearchCV object to the training data\n",
    "knn_grid.fit(X_train, y_train)\n",
    "\n",
    "# get the best hyperparameters\n",
    "print(\"Best hyperparameters:\", knn_grid.best_params_)\n",
    "\n",
    "# get the tuned KNN model\n",
    "knn_tuned = knn_grid.best_estimator_\n"
   ]
  },
  {
   "cell_type": "code",
   "execution_count": 137,
   "id": "c912776a",
   "metadata": {},
   "outputs": [
    {
     "name": "stdout",
     "output_type": "stream",
     "text": [
      "Accuracy: 0.9180327868852459\n",
      "Precision: 0.9655172413793104\n",
      "Recall: 0.875\n",
      "F1 Score: 0.9180327868852458\n"
     ]
    }
   ],
   "source": [
    "# predict using the tuned KNN model\n",
    "y_test_pred = knn_tuned.predict(X_test)\n",
    "\n",
    "# calculate evaluation metrics\n",
    "from sklearn.metrics import accuracy_score, precision_score, recall_score, f1_score\n",
    "accuracy = accuracy_score(y_test, y_test_pred)\n",
    "precision = precision_score(y_test, y_test_pred)\n",
    "recall = recall_score(y_test, y_test_pred)\n",
    "f1 = f1_score(y_test, y_test_pred)\n",
    "\n",
    "print(\"Accuracy:\", accuracy)\n",
    "print(\"Precision:\", precision)\n",
    "print(\"Recall:\", recall)\n",
    "print(\"F1 Score:\", f1)\n"
   ]
  },
  {
   "cell_type": "code",
   "execution_count": 138,
   "id": "300cc4b4",
   "metadata": {},
   "outputs": [
    {
     "name": "stdout",
     "output_type": "stream",
     "text": [
      "Confusion Matrix:\n",
      " [[28  1]\n",
      " [ 4 28]]\n"
     ]
    }
   ],
   "source": [
    "# calculate confusion matrix\n",
    "cm = confusion_matrix(y_test, y_test_pred)\n",
    "print(\"Confusion Matrix:\\n\", cm)"
   ]
  },
  {
   "cell_type": "markdown",
   "id": "db3491dd",
   "metadata": {},
   "source": [
    "### XGBoost"
   ]
  },
  {
   "cell_type": "code",
   "execution_count": 139,
   "id": "10fbcbb4",
   "metadata": {},
   "outputs": [
    {
     "name": "stdout",
     "output_type": "stream",
     "text": [
      "Best parameters found: {'subsample': 0.5, 'n_estimators': 100, 'max_depth': 5, 'learning_rate': 0.1, 'gamma': 0.2, 'colsample_bytree': 0.5}\n"
     ]
    }
   ],
   "source": [
    "from sklearn.model_selection import RandomizedSearchCV\n",
    "from xgboost import XGBClassifier\n",
    "\n",
    "# create the XGBoost model\n",
    "xgb_model = XGBClassifier()\n",
    "\n",
    "# define the hyperparameter grid to search over\n",
    "param_grid = {\n",
    "    'learning_rate': [0.01, 0.1, 0.2],\n",
    "    'max_depth': [3, 4, 5],\n",
    "    'n_estimators': [50, 100, 200],\n",
    "    'subsample': [0.5, 0.75, 1.0],\n",
    "    'colsample_bytree': [0.5, 0.75, 1.0],\n",
    "    'gamma': [0, 0.1, 0.2, 0.3]\n",
    "}\n",
    "\n",
    "# perform RandomizedSearchCV to find the best hyperparameters\n",
    "xgb_tuned = RandomizedSearchCV(estimator=xgb_model, param_distributions=param_grid, n_iter=50, cv=5, random_state=42)\n",
    "xgb_tuned.fit(X_train, y_train)\n",
    "\n",
    "# print the best hyperparameters found\n",
    "print(\"Best parameters found:\", xgb_tuned.best_params_)\n"
   ]
  },
  {
   "cell_type": "code",
   "execution_count": 140,
   "id": "931df861",
   "metadata": {},
   "outputs": [
    {
     "name": "stdout",
     "output_type": "stream",
     "text": [
      "Best hyperparameters: {'subsample': 1, 'n_estimators': 200, 'max_depth': 3, 'learning_rate': 0.1, 'gamma': 0.5, 'colsample_bytree': 0.5}\n",
      "Accuracy: 0.8852459016393442\n",
      "Precision: 0.9310344827586207\n",
      "Recall: 0.84375\n",
      "F1 score: 0.8852459016393444\n",
      "Confusion matrix:\n",
      " [[27  2]\n",
      " [ 5 27]]\n"
     ]
    }
   ],
   "source": [
    "from sklearn.model_selection import RandomizedSearchCV\n",
    "from xgboost import XGBClassifier\n",
    "\n",
    "# create XGBClassifier object\n",
    "xgb = XGBClassifier()\n",
    "\n",
    "# set hyperparameters to tune\n",
    "params = {\n",
    "    'n_estimators': [50, 100, 150, 200, 250],\n",
    "    'max_depth': [3, 5, 7, 9],\n",
    "    'learning_rate': [0.01, 0.1, 0.5, 1],\n",
    "    'subsample': [0.5, 0.7, 1],\n",
    "    'colsample_bytree': [0.5, 0.7, 1],\n",
    "    'gamma': [0, 0.1, 0.5, 1],\n",
    "}\n",
    "\n",
    "# create RandomizedSearchCV object\n",
    "rand_search = RandomizedSearchCV(xgb, param_distributions=params, n_iter=50, cv=5, scoring='accuracy')\n",
    "\n",
    "# fit the randomized search object to the data\n",
    "rand_search.fit(X_train, y_train)\n",
    "\n",
    "# print the best hyperparameters found by the randomized search\n",
    "print('Best hyperparameters:', rand_search.best_params_)\n",
    "\n",
    "# predict using the tuned XGBoost model\n",
    "y_test_pred = rand_search.predict(X_test)\n",
    "\n",
    "# calculate evaluation metrics\n",
    "accuracy = accuracy_score(y_test, y_test_pred)\n",
    "precision = precision_score(y_test, y_test_pred)\n",
    "recall = recall_score(y_test, y_test_pred)\n",
    "f1 = f1_score(y_test, y_test_pred)\n",
    "\n",
    "# print the evaluation metrics\n",
    "print('Accuracy:', accuracy)\n",
    "print('Precision:', precision)\n",
    "print('Recall:', recall)\n",
    "print('F1 score:', f1)\n",
    "\n",
    "# calculate and print the confusion matrix\n",
    "cm = confusion_matrix(y_test, y_test_pred)\n",
    "print('Confusion matrix:\\n', cm)\n"
   ]
  },
  {
   "cell_type": "markdown",
   "id": "6de48a2b",
   "metadata": {},
   "source": [
    "### Adaboost"
   ]
  },
  {
   "cell_type": "code",
   "execution_count": 141,
   "id": "c0be61ac",
   "metadata": {},
   "outputs": [
    {
     "name": "stdout",
     "output_type": "stream",
     "text": [
      "Accuracy: 0.8525\n",
      "Precision: 0.8710\n",
      "Recall: 0.8438\n",
      "F1 Score: 0.8571\n",
      "Confusion Matrix:\n",
      " [[25  4]\n",
      " [ 5 27]]\n"
     ]
    }
   ],
   "source": [
    "from sklearn.ensemble import AdaBoostClassifier\n",
    "from sklearn.model_selection import GridSearchCV\n",
    "from sklearn.metrics import accuracy_score, precision_score, recall_score, f1_score, confusion_matrix\n",
    "\n",
    "# create an AdaBoost Classifier object\n",
    "adaboost = AdaBoostClassifier()\n",
    "\n",
    "# define the parameter grid to search over\n",
    "param_grid = {\n",
    "    'n_estimators': [50, 100, 150, 200],\n",
    "    'learning_rate': [0.1, 0.5, 1, 2]\n",
    "}\n",
    "\n",
    "# perform a grid search with cross-validation\n",
    "grid_search = GridSearchCV(adaboost, param_grid=param_grid, cv=5)\n",
    "\n",
    "# fit the grid search to the training data\n",
    "grid_search.fit(X_train, y_train)\n",
    "\n",
    "# predict using the tuned Adaboost model\n",
    "y_test_pred = grid_search.predict(X_test)\n",
    "\n",
    "# calculate evaluation metrics\n",
    "accuracy = accuracy_score(y_test, y_test_pred)\n",
    "precision = precision_score(y_test, y_test_pred)\n",
    "recall = recall_score(y_test, y_test_pred)\n",
    "f1 = f1_score(y_test, y_test_pred)\n",
    "confusion_mat = confusion_matrix(y_test, y_test_pred)\n",
    "\n",
    "# print the evaluation metrics\n",
    "print(\"Accuracy: {:.4f}\".format(accuracy))\n",
    "print(\"Precision: {:.4f}\".format(precision))\n",
    "print(\"Recall: {:.4f}\".format(recall))\n",
    "print(\"F1 Score: {:.4f}\".format(f1))\n",
    "print(\"Confusion Matrix:\\n\", confusion_mat)\n"
   ]
  },
  {
   "cell_type": "markdown",
   "id": "da0c6076",
   "metadata": {},
   "source": []
  },
  {
   "cell_type": "markdown",
   "id": "73946995",
   "metadata": {},
   "source": [
    "# Comparing models"
   ]
  },
  {
   "cell_type": "code",
   "execution_count": 143,
   "id": "8e7a05b8",
   "metadata": {},
   "outputs": [
    {
     "name": "stdout",
     "output_type": "stream",
     "text": [
      "Training Logistic Regression...\n",
      "Training KNN...\n",
      "Training Decision Tree Classifier...\n",
      "Training Random Forest Classifier...\n",
      "Training Adaboost Classifier...\n",
      "Training Gaussian Naive Bayes...\n",
      "Training XGBoost Classifier...\n"
     ]
    },
    {
     "data": {
      "image/png": "[encoded data removed]",
      "text/plain": [
       "<Figure size 864x864 with 4 Axes>"
      ]
     },
     "metadata": {
      "needs_background": "light"
     },
     "output_type": "display_data"
    },
    {
     "data": {
      "image/png": "[encoded data removed]",
      "text/plain": [
       "<Figure size 576x720 with 1 Axes>"
      ]
     },
     "metadata": {
      "needs_background": "light"
     },
     "output_type": "display_data"
    }
   ],
   "source": [
    "model_metrics = []\n",
    "for model_name, model_params in models.items():\n",
    "    print(f\"Training {model_name}...\")\n",
    "    clf = GridSearchCV(model_params['model'], model_params['param_grid'], cv=5, n_jobs=-1)\n",
    "    clf.fit(X_train, y_train)\n",
    "    y_pred = clf.predict(X_test)\n",
    "    acc = accuracy_score(y_test, y_pred)\n",
    "    prec = precision_score(y_test, y_pred)\n",
    "    rec = recall_score(y_test, y_pred)\n",
    "    f1 = f1_score(y_test, y_pred)\n",
    "    roc_auc = roc_auc_score(y_test, y_pred)\n",
    "    \n",
    "    model_metrics.append({\n",
    "        'Model': model_name,\n",
    "        'Accuracy': acc,\n",
    "        'Precision': prec,\n",
    "        'Recall': rec,\n",
    "        'F1 Score': f1,\n",
    "        'ROC-AUC': roc_auc\n",
    "    })\n",
    "\n",
    "\n",
    "# Create a dataframe to store the metrics of each model\n",
    "metrics_df = pd.DataFrame(model_metrics)\n",
    "\n",
    "# Compare the metrics across the models\n",
    "plt.figure(figsize=(12, 12))\n",
    "plt.subplot(2, 2, 1)\n",
    "plt.bar(metrics_df['Model'], metrics_df['Accuracy'])\n",
    "plt.title('Accuracy')\n",
    "plt.xticks(rotation=90)\n",
    "\n",
    "plt.subplot(2, 2, 2)\n",
    "plt.bar(metrics_df['Model'], metrics_df['Precision'])\n",
    "plt.title('Precision')\n",
    "plt.xticks(rotation=90)\n",
    "\n",
    "plt.subplot(2, 2, 3)\n",
    "plt.bar(metrics_df['Model'], metrics_df['Recall'])\n",
    "plt.title('Recall')\n",
    "plt.xticks(rotation=90)\n",
    "\n",
    "plt.subplot(2, 2, 4)\n",
    "plt.bar(metrics_df['Model'], metrics_df['F1 Score'])\n",
    "plt.title('F1 Score')\n",
    "plt.xticks(rotation=90)\n",
    "\n",
    "plt.figure(figsize=(8, 10))\n",
    "plt.subplot(2, 2, 1)\n",
    "plt.bar(metrics_df['Model'], metrics_df['ROC-AUC'])\n",
    "plt.title('ROC-AUC')\n",
    "plt.xticks(rotation=90)\n",
    "\n",
    "plt.tight_layout()\n",
    "plt.show()"
   ]
  },
  {
   "cell_type": "markdown",
   "id": "b6279aaf",
   "metadata": {},
   "source": [
    "In this project, I used Machine Learning to predict whether a person is suffering from a heart disease. After importing the data, I did EDA,data pre-processing & Feature Engineering. Then, I did generated dummy variables for categorical features and scaled other features. Then ,I  applied  Machine Learning algorithms like logistic Regression,K Neighbors Classifier, Decision Tree Classifier,Random Forest Classifier,Adaboost,Naive Bayes & XGBoost. I did hyperparameter tuning across each model to improve their scores.\n",
    "\n",
    "**Finally , K Neighbors Classifier gave best all performance metrics & secondly, Naive bayes gave second best results.**"
   ]
  }
 ],
 "metadata": {
  "kernelspec": {
   "display_name": "Python 3 (ipykernel)",
   "language": "python",
   "name": "python3"
  },
  "language_info": {
   "codemirror_mode": {
    "name": "ipython",
    "version": 3
   },
   "file_extension": ".py",
   "mimetype": "text/x-python",
   "name": "python",
   "nbconvert_exporter": "python",
   "pygments_lexer": "ipython3",
   "version": "3.9.7"
  }
 },
 "nbformat": 4,
 "nbformat_minor": 5
}
